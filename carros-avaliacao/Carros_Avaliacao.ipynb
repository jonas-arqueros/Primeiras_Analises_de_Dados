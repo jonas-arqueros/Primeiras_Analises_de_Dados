{
 "cells": [
  {
   "cell_type": "code",
   "execution_count": 1,
   "id": "debd1147",
   "metadata": {},
   "outputs": [],
   "source": [
    "import pandas as pd\n",
    "import matplotlib.pyplot as plt\n",
    "from sklearn import tree\n",
    "from sklearn.tree import DecisionTreeClassifier, plot_tree\n",
    "from sklearn.model_selection import train_test_split\n",
    "from sklearn.metrics import accuracy_score\n",
    "import warnings\n",
    "warnings.simplefilter('ignore')"
   ]
  },
  {
   "cell_type": "code",
   "execution_count": 2,
   "id": "4b155b92",
   "metadata": {},
   "outputs": [],
   "source": [
    "url = \"https://raw.githubusercontent.com/higoramario/univesp-com410-aprendizado-de-maquinas/main/carros-avaliacao.csv\""
   ]
  },
  {
   "cell_type": "code",
   "execution_count": 3,
   "id": "b365174b",
   "metadata": {},
   "outputs": [],
   "source": [
    "df_carros = pd.read_csv(url) "
   ]
  },
  {
   "cell_type": "code",
   "execution_count": 5,
   "id": "f30dcf2f",
   "metadata": {},
   "outputs": [
    {
     "data": {
      "text/html": [
       "<div>\n",
       "<style scoped>\n",
       "    .dataframe tbody tr th:only-of-type {\n",
       "        vertical-align: middle;\n",
       "    }\n",
       "\n",
       "    .dataframe tbody tr th {\n",
       "        vertical-align: top;\n",
       "    }\n",
       "\n",
       "    .dataframe thead th {\n",
       "        text-align: right;\n",
       "    }\n",
       "</style>\n",
       "<table border=\"1\" class=\"dataframe\">\n",
       "  <thead>\n",
       "    <tr style=\"text-align: right;\">\n",
       "      <th></th>\n",
       "      <th>preco</th>\n",
       "      <th>manutencao</th>\n",
       "      <th>portas</th>\n",
       "      <th>pessoas</th>\n",
       "      <th>bagageiro</th>\n",
       "      <th>seguranca</th>\n",
       "      <th>aceitabilidade</th>\n",
       "    </tr>\n",
       "  </thead>\n",
       "  <tbody>\n",
       "    <tr>\n",
       "      <th>0</th>\n",
       "      <td>muitoalto</td>\n",
       "      <td>muitoalto</td>\n",
       "      <td>2</td>\n",
       "      <td>2</td>\n",
       "      <td>pequeno</td>\n",
       "      <td>baixa</td>\n",
       "      <td>inaceitavel</td>\n",
       "    </tr>\n",
       "    <tr>\n",
       "      <th>1</th>\n",
       "      <td>muitoalto</td>\n",
       "      <td>muitoalto</td>\n",
       "      <td>2</td>\n",
       "      <td>2</td>\n",
       "      <td>pequeno</td>\n",
       "      <td>media</td>\n",
       "      <td>inaceitavel</td>\n",
       "    </tr>\n",
       "    <tr>\n",
       "      <th>2</th>\n",
       "      <td>muitoalto</td>\n",
       "      <td>muitoalto</td>\n",
       "      <td>2</td>\n",
       "      <td>2</td>\n",
       "      <td>pequeno</td>\n",
       "      <td>alta</td>\n",
       "      <td>inaceitavel</td>\n",
       "    </tr>\n",
       "    <tr>\n",
       "      <th>3</th>\n",
       "      <td>muitoalto</td>\n",
       "      <td>muitoalto</td>\n",
       "      <td>2</td>\n",
       "      <td>2</td>\n",
       "      <td>medio</td>\n",
       "      <td>baixa</td>\n",
       "      <td>inaceitavel</td>\n",
       "    </tr>\n",
       "    <tr>\n",
       "      <th>4</th>\n",
       "      <td>muitoalto</td>\n",
       "      <td>muitoalto</td>\n",
       "      <td>2</td>\n",
       "      <td>2</td>\n",
       "      <td>medio</td>\n",
       "      <td>media</td>\n",
       "      <td>inaceitavel</td>\n",
       "    </tr>\n",
       "  </tbody>\n",
       "</table>\n",
       "</div>"
      ],
      "text/plain": [
       "       preco manutencao portas pessoas bagageiro seguranca aceitabilidade\n",
       "0  muitoalto  muitoalto      2       2   pequeno     baixa    inaceitavel\n",
       "1  muitoalto  muitoalto      2       2   pequeno     media    inaceitavel\n",
       "2  muitoalto  muitoalto      2       2   pequeno      alta    inaceitavel\n",
       "3  muitoalto  muitoalto      2       2     medio     baixa    inaceitavel\n",
       "4  muitoalto  muitoalto      2       2     medio     media    inaceitavel"
      ]
     },
     "execution_count": 5,
     "metadata": {},
     "output_type": "execute_result"
    }
   ],
   "source": [
    "df_carros.head()"
   ]
  },
  {
   "cell_type": "code",
   "execution_count": 6,
   "id": "e887dc4c",
   "metadata": {},
   "outputs": [
    {
     "name": "stdout",
     "output_type": "stream",
     "text": [
      "<class 'pandas.core.frame.DataFrame'>\n",
      "RangeIndex: 1728 entries, 0 to 1727\n",
      "Data columns (total 7 columns):\n",
      " #   Column          Non-Null Count  Dtype \n",
      "---  ------          --------------  ----- \n",
      " 0   preco           1728 non-null   object\n",
      " 1   manutencao      1728 non-null   object\n",
      " 2   portas          1728 non-null   object\n",
      " 3   pessoas         1728 non-null   object\n",
      " 4   bagageiro       1728 non-null   object\n",
      " 5   seguranca       1728 non-null   object\n",
      " 6   aceitabilidade  1728 non-null   object\n",
      "dtypes: object(7)\n",
      "memory usage: 94.6+ KB\n"
     ]
    }
   ],
   "source": [
    "df_carros.info()"
   ]
  },
  {
   "cell_type": "code",
   "execution_count": null,
   "id": "b88c56c7",
   "metadata": {},
   "outputs": [],
   "source": []
  }
 ],
 "metadata": {
  "kernelspec": {
   "display_name": "Python 3 (ipykernel)",
   "language": "python",
   "name": "python3"
  },
  "language_info": {
   "codemirror_mode": {
    "name": "ipython",
    "version": 3
   },
   "file_extension": ".py",
   "mimetype": "text/x-python",
   "name": "python",
   "nbconvert_exporter": "python",
   "pygments_lexer": "ipython3",
   "version": "3.11.4"
  }
 },
 "nbformat": 4,
 "nbformat_minor": 5
}
